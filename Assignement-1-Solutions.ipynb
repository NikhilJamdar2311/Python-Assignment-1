{
 "cells": [
  {
   "cell_type": "code",
   "execution_count": 1,
   "id": "aa14da08-7bab-4685-a2e7-12bf475d13c0",
   "metadata": {},
   "outputs": [
    {
     "data": {
      "text/plain": [
       "2401"
      ]
     },
     "execution_count": 1,
     "metadata": {},
     "output_type": "execute_result"
    }
   ],
   "source": [
    "7**4"
   ]
  },
  {
   "cell_type": "markdown",
   "id": "0e214b8c-215b-41e0-bf56-6372851e0372",
   "metadata": {},
   "source": [
    "#### --------------------------------------------------------------"
   ]
  },
  {
   "cell_type": "code",
   "execution_count": 2,
   "id": "bec5b7cf-d10c-4dfa-9ce5-9b9a8a5f0d55",
   "metadata": {},
   "outputs": [],
   "source": [
    "s = \"Hi there Yogesh!\""
   ]
  },
  {
   "cell_type": "code",
   "execution_count": 3,
   "id": "ebc3beeb-0dff-4b8e-8255-60196a55602a",
   "metadata": {},
   "outputs": [
    {
     "data": {
      "text/plain": [
       "['Hi', 'there', 'Yogesh!']"
      ]
     },
     "execution_count": 3,
     "metadata": {},
     "output_type": "execute_result"
    }
   ],
   "source": [
    "s.split()"
   ]
  },
  {
   "cell_type": "markdown",
   "id": "cb787d9e-09c0-4e1e-87fc-7e4a840de50e",
   "metadata": {},
   "source": [
    "#### ----------------------------------------------------------"
   ]
  },
  {
   "cell_type": "code",
   "execution_count": 4,
   "id": "b6e53da9-76aa-47d5-badf-8778f5f7987b",
   "metadata": {},
   "outputs": [],
   "source": [
    "planet = \"Earth\"\n",
    "diameter = 12742"
   ]
  },
  {
   "cell_type": "code",
   "execution_count": 8,
   "id": "390d2fd4-8a9a-4a22-b85c-cdd0ea18722d",
   "metadata": {},
   "outputs": [
    {
     "data": {
      "text/plain": [
       "'The diameter if Earth is 12742'"
      ]
     },
     "execution_count": 8,
     "metadata": {},
     "output_type": "execute_result"
    }
   ],
   "source": [
    "\"The diameter if {} is {}\".format(planet,diameter)"
   ]
  },
  {
   "cell_type": "markdown",
   "id": "652c5074-b1fe-40c4-bd01-636dd534d5b4",
   "metadata": {},
   "source": [
    "#### ----------------------------------------------------------"
   ]
  },
  {
   "cell_type": "code",
   "execution_count": 9,
   "id": "d3581a5c-2acd-418a-b3c3-80d1d7e600be",
   "metadata": {},
   "outputs": [],
   "source": [
    "lst = [1,2,[3,4],[5,[100,200,['hello']],23,11],1,7]"
   ]
  },
  {
   "cell_type": "code",
   "execution_count": 12,
   "id": "0d2dd447-4538-42c3-910e-bcd442dedd96",
   "metadata": {},
   "outputs": [
    {
     "data": {
      "text/plain": [
       "['hello']"
      ]
     },
     "execution_count": 12,
     "metadata": {},
     "output_type": "execute_result"
    }
   ],
   "source": [
    "# The indexing to grab hello is as follows:\n",
    "lst[3][1][2]"
   ]
  },
  {
   "cell_type": "code",
   "execution_count": 29,
   "id": "26a73ba3-789c-4eba-ad82-c4832ffd3963",
   "metadata": {},
   "outputs": [],
   "source": [
    "# Define the dictionary\n",
    "d = {'k1':[1,2,3,{'tricky':['oh','man','inception',\n",
    "                            {'target':[1,2,3,'hello']}]}]}"
   ]
  },
  {
   "cell_type": "code",
   "execution_count": 28,
   "id": "1e4a8862-d9af-4f46-9e84-9b672282af5a",
   "metadata": {},
   "outputs": [
    {
     "data": {
      "text/plain": [
       "{'k1': [1,\n",
       "  2,\n",
       "  3,\n",
       "  {'tricky': ['oh', 'man', 'inception', {'target': [1, 2, 3, 'hello']}]}]}"
      ]
     },
     "execution_count": 28,
     "metadata": {},
     "output_type": "execute_result"
    }
   ],
   "source": [
    "# first step printed the dist\n",
    "d"
   ]
  },
  {
   "cell_type": "code",
   "execution_count": 30,
   "id": "a48da9cf-0e9e-4c46-951f-c4232051f20e",
   "metadata": {},
   "outputs": [
    {
     "data": {
      "text/plain": [
       "[1,\n",
       " 2,\n",
       " 3,\n",
       " {'tricky': ['oh', 'man', 'inception', {'target': [1, 2, 3, 'hello']}]}]"
      ]
     },
     "execution_count": 30,
     "metadata": {},
     "output_type": "execute_result"
    }
   ],
   "source": [
    "# Step 1: Access the list associated with key 'k1'\n",
    "d['k1']"
   ]
  },
  {
   "cell_type": "code",
   "execution_count": 31,
   "id": "a622d449-97e8-4311-8ca6-7bf1b8f93fa7",
   "metadata": {},
   "outputs": [
    {
     "data": {
      "text/plain": [
       "{'tricky': ['oh', 'man', 'inception', {'target': [1, 2, 3, 'hello']}]}"
      ]
     },
     "execution_count": 31,
     "metadata": {},
     "output_type": "execute_result"
    }
   ],
   "source": [
    "# Step 2: Access the dictionary which is the 4th item in the list\n",
    "d['k1'][3]"
   ]
  },
  {
   "cell_type": "code",
   "execution_count": 32,
   "id": "940e41b4-49d9-4169-868b-d56cd341ec4b",
   "metadata": {},
   "outputs": [
    {
     "data": {
      "text/plain": [
       "['oh', 'man', 'inception', {'target': [1, 2, 3, 'hello']}]"
      ]
     },
     "execution_count": 32,
     "metadata": {},
     "output_type": "execute_result"
    }
   ],
   "source": [
    "# Step 3: Access the list under key 'tricky' in the inner dictionary\n",
    "d['k1'][3]['tricky']"
   ]
  },
  {
   "cell_type": "code",
   "execution_count": 33,
   "id": "23a5a392-c3a0-47c9-8aeb-806193493642",
   "metadata": {},
   "outputs": [
    {
     "data": {
      "text/plain": [
       "{'target': [1, 2, 3, 'hello']}"
      ]
     },
     "execution_count": 33,
     "metadata": {},
     "output_type": "execute_result"
    }
   ],
   "source": [
    "# Step 4: Access the dictionary inside the 'tricky' list at index 3\n",
    "d['k1'][3]['tricky'][3]"
   ]
  },
  {
   "cell_type": "code",
   "execution_count": 34,
   "id": "c98a3d76-519d-4cfe-b7a3-c1d09a75a3a5",
   "metadata": {},
   "outputs": [
    {
     "data": {
      "text/plain": [
       "[1, 2, 3, 'hello']"
      ]
     },
     "execution_count": 34,
     "metadata": {},
     "output_type": "execute_result"
    }
   ],
   "source": [
    "# Step 5: Access the list under the key 'target'\n",
    "d['k1'][3]['tricky'][3]['target']"
   ]
  },
  {
   "cell_type": "code",
   "execution_count": 36,
   "id": "f9f1eba9-0c2f-4f23-ace4-57e6369f3cfe",
   "metadata": {},
   "outputs": [
    {
     "data": {
      "text/plain": [
       "'hello'"
      ]
     },
     "execution_count": 36,
     "metadata": {},
     "output_type": "execute_result"
    }
   ],
   "source": [
    "# Step 6: Finally, access the string 'hello' from the list\n",
    "d['k1'][3]['tricky'][3]['target'][3]"
   ]
  },
  {
   "cell_type": "markdown",
   "id": "7c86b40c-fca8-4745-804e-a2e8553b7d69",
   "metadata": {},
   "source": [
    "#### ----------------------------------------------------------"
   ]
  },
  {
   "cell_type": "markdown",
   "id": "1973f848-a29e-4f66-8bc9-0d3353b94a09",
   "metadata": {},
   "source": [
    "** What is the main difference between a tuple and a list? **"
   ]
  },
  {
   "cell_type": "markdown",
   "id": "4998cf26-6548-45b0-a3b5-bf051278e475",
   "metadata": {},
   "source": [
    "** The main difference between list and tuple is **\n",
    "#### List : is mutable\n",
    "#### tuple : is immutable\n",
    "** Below example we can see it **"
   ]
  },
  {
   "cell_type": "code",
   "execution_count": 77,
   "id": "811e894c-1b73-4940-8262-6a9616f6c543",
   "metadata": {},
   "outputs": [],
   "source": [
    "list1 = [1,4,5,'Nikhil']"
   ]
  },
  {
   "cell_type": "code",
   "execution_count": 78,
   "id": "8db2b035-519c-4746-a227-b2f25e23f2cf",
   "metadata": {},
   "outputs": [
    {
     "data": {
      "text/plain": [
       "[1, 4, 5, 'Nikhil']"
      ]
     },
     "execution_count": 78,
     "metadata": {},
     "output_type": "execute_result"
    }
   ],
   "source": [
    "list1"
   ]
  },
  {
   "cell_type": "code",
   "execution_count": 79,
   "id": "cbcca005-b362-42e5-8320-21404756da3b",
   "metadata": {},
   "outputs": [
    {
     "data": {
      "text/plain": [
       "'Nikhil'"
      ]
     },
     "execution_count": 79,
     "metadata": {},
     "output_type": "execute_result"
    }
   ],
   "source": [
    "list1[3]"
   ]
  },
  {
   "cell_type": "code",
   "execution_count": 80,
   "id": "9a0da7c5-6aa0-467e-b560-1cb54732275d",
   "metadata": {},
   "outputs": [],
   "source": [
    "list1[3] = 'Jamdar'"
   ]
  },
  {
   "cell_type": "code",
   "execution_count": 81,
   "id": "79369ce3-69fe-4951-8657-a58f6b7a122e",
   "metadata": {},
   "outputs": [
    {
     "data": {
      "text/plain": [
       "[1, 4, 5, 'Jamdar']"
      ]
     },
     "execution_count": 81,
     "metadata": {},
     "output_type": "execute_result"
    }
   ],
   "source": [
    "list1"
   ]
  },
  {
   "cell_type": "code",
   "execution_count": 82,
   "id": "8f9bce8f-7cf6-4d2b-93f3-f56461db8fa2",
   "metadata": {},
   "outputs": [],
   "source": [
    "tuple1 = (2,4,5,3)"
   ]
  },
  {
   "cell_type": "code",
   "execution_count": 83,
   "id": "278b97c2-089c-421c-81fa-ca46977d926e",
   "metadata": {},
   "outputs": [
    {
     "data": {
      "text/plain": [
       "(2, 4, 5, 3)"
      ]
     },
     "execution_count": 83,
     "metadata": {},
     "output_type": "execute_result"
    }
   ],
   "source": [
    "tuple1"
   ]
  },
  {
   "cell_type": "code",
   "execution_count": 84,
   "id": "cbe295c7-4a63-4a46-8faa-81e270412107",
   "metadata": {},
   "outputs": [
    {
     "data": {
      "text/plain": [
       "5"
      ]
     },
     "execution_count": 84,
     "metadata": {},
     "output_type": "execute_result"
    }
   ],
   "source": [
    "tuple1[2]"
   ]
  },
  {
   "cell_type": "code",
   "execution_count": 85,
   "id": "aaa0b9a4-10a6-45d6-8839-8e04a93a4f4d",
   "metadata": {},
   "outputs": [
    {
     "ename": "TypeError",
     "evalue": "'tuple' object does not support item assignment",
     "output_type": "error",
     "traceback": [
      "\u001b[1;31m---------------------------------------------------------------------------\u001b[0m",
      "\u001b[1;31mTypeError\u001b[0m                                 Traceback (most recent call last)",
      "Cell \u001b[1;32mIn[85], line 1\u001b[0m\n\u001b[1;32m----> 1\u001b[0m tuple1[\u001b[38;5;241m2\u001b[39m]\u001b[38;5;241m=\u001b[39m\u001b[38;5;241m0\u001b[39m\n",
      "\u001b[1;31mTypeError\u001b[0m: 'tuple' object does not support item assignment"
     ]
    }
   ],
   "source": [
    "tuple1[2]=0"
   ]
  },
  {
   "cell_type": "markdown",
   "id": "3ad8bfc5-d57d-4527-9f91-838e6319a3e9",
   "metadata": {},
   "source": [
    "#### ----------------------------------------------------------"
   ]
  },
  {
   "cell_type": "markdown",
   "id": "9b228610-1ec7-4640-927e-26daa708ef22",
   "metadata": {},
   "source": [
    "** Create a function that grabs the email website domain from a string in the form: **\n",
    "\n",
    "user@domain.com\n",
    "So for example, passing \"user@domain.com\" would return: domain.com"
   ]
  },
  {
   "cell_type": "code",
   "execution_count": 53,
   "id": "3be98f59-223b-44b3-a3d2-d6be72f5dcf1",
   "metadata": {},
   "outputs": [],
   "source": [
    "def get(email):\n",
    "    return(email.split('@')[1])"
   ]
  },
  {
   "cell_type": "code",
   "execution_count": 54,
   "id": "e7510b4e-700f-4c54-aee2-70692805390f",
   "metadata": {},
   "outputs": [
    {
     "data": {
      "text/plain": [
       "'gmail.com'"
      ]
     },
     "execution_count": 54,
     "metadata": {},
     "output_type": "execute_result"
    }
   ],
   "source": [
    "get(\"njamdar@gmail.com\")"
   ]
  },
  {
   "cell_type": "markdown",
   "id": "1aa7ade1-eb9a-46c0-bf9b-e1a200853076",
   "metadata": {},
   "source": [
    "#### ----------------------------------------------------------"
   ]
  },
  {
   "cell_type": "markdown",
   "id": "baa94c0b-21be-48c6-8cc7-09cdabc6f9c0",
   "metadata": {},
   "source": [
    "** Create a basic function that returns True if the word 'dog' is contained in the input string. Don't worry about edge cases like a punctuation being attached to the word dog, but do account for capitalization. **"
   ]
  },
  {
   "cell_type": "code",
   "execution_count": 55,
   "id": "2ceff1ac-fd70-49e1-b4a3-4fa8ac726bee",
   "metadata": {},
   "outputs": [],
   "source": [
    "def find_dog(my_str):\n",
    "    return 'dog' in my_str"
   ]
  },
  {
   "cell_type": "code",
   "execution_count": 56,
   "id": "c5c1d395-5109-4aec-8076-5d08988f3d9d",
   "metadata": {},
   "outputs": [
    {
     "data": {
      "text/plain": [
       "True"
      ]
     },
     "execution_count": 56,
     "metadata": {},
     "output_type": "execute_result"
    }
   ],
   "source": [
    "find_dog(\"Is their dog in str\")"
   ]
  },
  {
   "cell_type": "code",
   "execution_count": 57,
   "id": "80c5d4aa-b08c-4e1b-bc25-911c8c7f1c45",
   "metadata": {},
   "outputs": [
    {
     "data": {
      "text/plain": [
       "True"
      ]
     },
     "execution_count": 57,
     "metadata": {},
     "output_type": "execute_result"
    }
   ],
   "source": [
    "find_dog(\"Is their dog in my str\")"
   ]
  },
  {
   "cell_type": "code",
   "execution_count": 58,
   "id": "efeb01c3-a801-4b87-b7c9-10801f1f299a",
   "metadata": {},
   "outputs": [
    {
     "data": {
      "text/plain": [
       "False"
      ]
     },
     "execution_count": 58,
     "metadata": {},
     "output_type": "execute_result"
    }
   ],
   "source": [
    "find_dog(\"Is their in my str\")"
   ]
  },
  {
   "cell_type": "markdown",
   "id": "df8c0baa-cd4d-4b42-ad7a-3eca42a329e1",
   "metadata": {},
   "source": [
    "#### ----------------------------------------------------------"
   ]
  },
  {
   "cell_type": "markdown",
   "id": "82793eac-2b81-4f36-88fc-0f0f5b0a961d",
   "metadata": {},
   "source": [
    "** Create a function that counts the number of times the word \"dog\" occurs in a string. Again ignore edge cases. **"
   ]
  },
  {
   "cell_type": "code",
   "execution_count": 69,
   "id": "8b9510f7-e9e8-456e-8e88-0a5ac4a44927",
   "metadata": {},
   "outputs": [],
   "source": [
    "def count_dog(my_str):\n",
    "    count = 0\n",
    "    for str in my_str.lower().split():\n",
    "        if str == 'dog':\n",
    "            count = count+1\n",
    "    return count"
   ]
  },
  {
   "cell_type": "code",
   "execution_count": 71,
   "id": "ab00f4e4-9fe1-4ad8-b79d-b5a9276ac09e",
   "metadata": {},
   "outputs": [
    {
     "data": {
      "text/plain": [
       "2"
      ]
     },
     "execution_count": 71,
     "metadata": {},
     "output_type": "execute_result"
    }
   ],
   "source": [
    "count_dog(\"where is my dog here i found one dog\")"
   ]
  },
  {
   "cell_type": "markdown",
   "id": "58c80ff0-4412-44c5-8b63-09544b8dcef1",
   "metadata": {},
   "source": [
    "#### ----------------------------------------------------------"
   ]
  },
  {
   "cell_type": "markdown",
   "id": "a7d67476-25dc-4904-9738-675a742906a0",
   "metadata": {},
   "source": [
    "** Use lambda expressions and the filter() function to filter out words from a list that don't start with the letter 's'. For example:**\n",
    "\n",
    "seq = ['soup','dog','salad','cat','great']\n",
    "should be filtered down to:\n",
    "\n",
    "['soup','salad']"
   ]
  },
  {
   "cell_type": "code",
   "execution_count": 89,
   "id": "cb70678e-0f05-477a-b3be-a74f5a5b6d31",
   "metadata": {},
   "outputs": [],
   "source": [
    "seq = ['soup','dog','salad','cat','great']"
   ]
  },
  {
   "cell_type": "code",
   "execution_count": 93,
   "id": "b0af1fc4-b516-4773-b785-d158a69f41d1",
   "metadata": {},
   "outputs": [
    {
     "data": {
      "text/plain": [
       "[False, True, False, True, True]"
      ]
     },
     "execution_count": 93,
     "metadata": {},
     "output_type": "execute_result"
    }
   ],
   "source": [
    "list(map(lambda v:v[0]!='s',seq))"
   ]
  },
  {
   "cell_type": "code",
   "execution_count": 94,
   "id": "d4440ca8-263e-4324-818f-1a51a3f1fc61",
   "metadata": {},
   "outputs": [
    {
     "data": {
      "text/plain": [
       "['dog', 'cat', 'great']"
      ]
     },
     "execution_count": 94,
     "metadata": {},
     "output_type": "execute_result"
    }
   ],
   "source": [
    "list(filter(lambda v:v[0]!='s',seq))"
   ]
  },
  {
   "cell_type": "markdown",
   "id": "1f006218-7bf4-4c96-a8c4-67779c5c343a",
   "metadata": {},
   "source": [
    "#### ----------------------------------------------------------"
   ]
  },
  {
   "cell_type": "markdown",
   "id": "da708be4-28b6-4003-8aaa-f31ec55cfd4c",
   "metadata": {},
   "source": [
    "### Final Problem\n",
    "**You are driving a little too fast, and a police officer stops you. Write a function\n",
    "  to return one of 3 possible results: \"No ticket\", \"Small ticket\", or \"Big Ticket\". \n",
    "  If your speed is 60 or less, the result is \"No Ticket\". If speed is between 61 \n",
    "  and 80 inclusive, the result is \"Small Ticket\". If speed is 81 or more, the result is \"Big    Ticket\". Unless it is your birthday (encoded as a boolean value in the parameters of the function) -- on your birthday, your speed can be 5 higher in all \n",
    "  cases. **"
   ]
  },
  {
   "cell_type": "code",
   "execution_count": 95,
   "id": "1b6de73c-f865-441a-be45-ec61829b6f07",
   "metadata": {},
   "outputs": [],
   "source": [
    "def speed_check(speed,birthday):\n",
    "    if birthday:\n",
    "        adj_speed = speed - 5\n",
    "    else:\n",
    "        adj_speed = speed\n",
    "    if adj_speed > 80:\n",
    "        return(\"Big Ticket\")\n",
    "    elif adj_speed > 60:\n",
    "        return(\"Small Ticket\")\n",
    "    else:\n",
    "        return(\"No Ticket\")"
   ]
  },
  {
   "cell_type": "code",
   "execution_count": 100,
   "id": "c78f16d8-e2e3-4eaf-9299-e6517a42602d",
   "metadata": {},
   "outputs": [
    {
     "data": {
      "text/plain": [
       "'Big Ticket'"
      ]
     },
     "execution_count": 100,
     "metadata": {},
     "output_type": "execute_result"
    }
   ],
   "source": [
    "speed_check(90,False)"
   ]
  },
  {
   "cell_type": "markdown",
   "id": "005a536d-d7a2-4040-976f-cd511432f548",
   "metadata": {},
   "source": [
    "Question\n",
    "Given a string print number num by extracting all the\n",
    "digits from the string as in string\n",
    "Print negative number if the first character in \n",
    "string is '-'\n",
    "eg.\n",
    "-123abcd should return -123,abcd456-->456,fdhfh78dsd89--->7889,-56dssd78-->-5678"
   ]
  },
  {
   "cell_type": "code",
   "execution_count": 102,
   "id": "2d96fa2b-1c39-49c2-a627-8006ff731c92",
   "metadata": {},
   "outputs": [
    {
     "name": "stdin",
     "output_type": "stream",
     "text": [
      "Enter the Input: -112njnjn12121\n"
     ]
    },
    {
     "name": "stdout",
     "output_type": "stream",
     "text": [
      "-11212121\n"
     ]
    }
   ],
   "source": [
    "num1=input(\"Enter the Input:\")\n",
    "d=\"\"\n",
    "numbers=[0,1,2,3,4,5,6,7,8,9]\n",
    "if num1[0]==\"-\":\n",
    "    d=d+num1[0]\n",
    "for v in num1:\n",
    "    if v in str(numbers):\n",
    "        d=d+v\n",
    "print(d)"
   ]
  },
  {
   "cell_type": "markdown",
   "id": "876ad628-c02f-4197-a4c2-02d43710b91f",
   "metadata": {},
   "source": [
    "#### ----------------------------------------------------------"
   ]
  },
  {
   "cell_type": "markdown",
   "id": "d462db9f-c1b1-41f4-8ed1-7e7185e5e712",
   "metadata": {},
   "source": [
    "Write a python function to find and display the five \n",
    "digit number in which the first digit is two more than \n",
    "the second,the second digit is two more than the third,\n",
    "the fourth digit is two less than the third, and the \n",
    "last digit is two more than\n",
    "the fourth.The sum of the third,fourth and fifth digits\n",
    "equals the first.The sum of all the digits is 19"
   ]
  },
  {
   "cell_type": "code",
   "execution_count": 109,
   "id": "2970e11b-5753-4c15-bccd-6d90803c21c3",
   "metadata": {},
   "outputs": [],
   "source": [
    "def find_five_digit():\n",
    "    for C in range(10):\n",
    "        A = C + 4\n",
    "        B = C + 2\n",
    "        D = C - 2\n",
    "        E = C\n",
    "\n",
    "        if all(0 <= x <= 9 for x in [A, B, C, D, E]):\n",
    "            if(C + D + E == A) and (A + B + C + D + E == 19):\n",
    "                number = int(f\"{A}{B}{C}{D}{E}\")\n",
    "                print((\"The Five Digit Number is: {}\").format(number))\n",
    "                return"
   ]
  },
  {
   "cell_type": "code",
   "execution_count": 110,
   "id": "ced688d4-4c7d-4984-ab7e-e59805d2fc7e",
   "metadata": {},
   "outputs": [
    {
     "name": "stdout",
     "output_type": "stream",
     "text": [
      "The Five Digit Number is: 75313\n"
     ]
    }
   ],
   "source": [
    "find_five_digit()"
   ]
  },
  {
   "cell_type": "markdown",
   "id": "07f33d07-818e-454a-a215-fcb34ad27a5b",
   "metadata": {},
   "source": [
    "## Thank You........!"
   ]
  },
  {
   "cell_type": "code",
   "execution_count": null,
   "id": "af489561-fe29-4dc5-86b4-5c65b16bf404",
   "metadata": {},
   "outputs": [],
   "source": []
  }
 ],
 "metadata": {
  "kernelspec": {
   "display_name": "Python 3 (ipykernel)",
   "language": "python",
   "name": "python3"
  },
  "language_info": {
   "codemirror_mode": {
    "name": "ipython",
    "version": 3
   },
   "file_extension": ".py",
   "mimetype": "text/x-python",
   "name": "python",
   "nbconvert_exporter": "python",
   "pygments_lexer": "ipython3",
   "version": "3.13.5"
  }
 },
 "nbformat": 4,
 "nbformat_minor": 5
}
